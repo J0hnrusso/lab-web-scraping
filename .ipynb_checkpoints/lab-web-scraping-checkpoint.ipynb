{
 "cells": [
  {
   "cell_type": "markdown",
   "id": "7e7a1ab8-2599-417d-9a65-25ef07f3a786",
   "metadata": {
    "id": "7e7a1ab8-2599-417d-9a65-25ef07f3a786"
   },
   "source": [
    "# Lab | Web Scraping"
   ]
  },
  {
   "cell_type": "markdown",
   "id": "ce8882fc-4815-4567-92fa-b4816358ba7d",
   "metadata": {
    "id": "ce8882fc-4815-4567-92fa-b4816358ba7d"
   },
   "source": [
    "Welcome to the \"Books to Scrape\" Web Scraping Adventure Lab!\n",
    "\n",
    "**Objective**\n",
    "\n",
    "In this lab, we will embark on a mission to unearth valuable insights from the data available on Books to Scrape, an online platform showcasing a wide variety of books. As data analyst, you have been tasked with scraping a specific subset of book data from Books to Scrape to assist publishing companies in understanding the landscape of highly-rated books across different genres. Your insights will help shape future book marketing strategies and publishing decisions.\n",
    "\n",
    "**Background**\n",
    "\n",
    "In a world where data has become the new currency, businesses are leveraging big data to make informed decisions that drive success and profitability. The publishing industry, much like others, utilizes data analytics to understand market trends, reader preferences, and the performance of books based on factors such as genre, author, and ratings. Books to Scrape serves as a rich source of such data, offering detailed information about a diverse range of books, making it an ideal platform for extracting insights to aid in informed decision-making within the literary world.\n",
    "\n",
    "**Task**\n",
    "\n",
    "Your task is to create a Python script using BeautifulSoup and pandas to scrape Books to Scrape book data, focusing on book ratings and genres. The script should be able to filter books with ratings above a certain threshold and in specific genres. Additionally, the script should structure the scraped data in a tabular format using pandas for further analysis.\n",
    "\n",
    "**Expected Outcome**\n",
    "\n",
    "A function named `scrape_books` that takes two parameters: `min_rating` and `max_price`. The function should scrape book data from the \"Books to Scrape\" website and return a `pandas` DataFrame with the following columns:\n",
    "\n",
    "**Expected Outcome**\n",
    "\n",
    "- A function named `scrape_books` that takes two parameters: `min_rating` and `max_price`.\n",
    "- The function should return a DataFrame with the following columns:\n",
    "  - **UPC**: The Universal Product Code (UPC) of the book.\n",
    "  - **Title**: The title of the book.\n",
    "  - **Price (£)**: The price of the book in pounds.\n",
    "  - **Rating**: The rating of the book (1-5 stars).\n",
    "  - **Genre**: The genre of the book.\n",
    "  - **Availability**: Whether the book is in stock or not.\n",
    "  - **Description**: A brief description or product description of the book (if available).\n",
    "  \n",
    "You will execute this script to scrape data for books with a minimum rating of `4.0 and above` and a maximum price of `£20`. \n",
    "\n",
    "Remember to experiment with different ratings and prices to ensure your code is versatile and can handle various searches effectively!\n",
    "\n",
    "**Resources**\n",
    "\n",
    "- [Beautiful Soup Documentation](https://www.crummy.com/software/BeautifulSoup/bs4/doc/)\n",
    "- [Pandas Documentation](https://pandas.pydata.org/pandas-docs/stable/index.html)\n",
    "- [Books to Scrape](https://books.toscrape.com/)\n"
   ]
  },
  {
   "cell_type": "markdown",
   "id": "3519921d-5890-445b-9a33-934ed8ee378c",
   "metadata": {
    "id": "3519921d-5890-445b-9a33-934ed8ee378c"
   },
   "source": [
    "**Hint**\n",
    "\n",
    "Your first mission is to familiarize yourself with the **Books to Scrape** website. Navigate to [Books to Scrape](http://books.toscrape.com/) and explore the available books to understand their layout and structure. \n",
    "\n",
    "Next, think about how you can set parameters for your data extraction:\n",
    "\n",
    "- **Minimum Rating**: Focus on books with a rating of 4.0 and above.\n",
    "- **Maximum Price**: Filter for books priced up to £20.\n",
    "\n",
    "After reviewing the site, you can construct a plan for scraping relevant data. Pay attention to the details displayed for each book, including the title, price, rating, and availability. This will help you identify the correct HTML elements to target with your scraping script.\n",
    "\n",
    "Make sure to build your scraping URL and logic based on the patterns you observe in the HTML structure of the book listings!"
   ]
  },
  {
   "cell_type": "markdown",
   "id": "25a83a0d-a742-49f6-985e-e27887cbf922",
   "metadata": {
    "id": "25a83a0d-a742-49f6-985e-e27887cbf922"
   },
   "source": [
    "\n",
    "---\n",
    "\n",
    "**Best of luck! Immerse yourself in the world of books, and may the data be with you!**"
   ]
  },
  {
   "cell_type": "markdown",
   "id": "7b75cf0d-9afa-4eec-a9e2-befeac68b2a0",
   "metadata": {
    "id": "7b75cf0d-9afa-4eec-a9e2-befeac68b2a0"
   },
   "source": [
    "**Important Note**:\n",
    "\n",
    "In the fast-changing online world, websites often update and change their structures. When you try this lab, the **Books to Scrape** website might differ from what you expect.\n",
    "\n",
    "If you encounter issues due to these changes, like new rules or obstacles preventing data extraction, don’t worry! Get creative.\n",
    "\n",
    "You can choose another website that interests you and is suitable for scraping data. Options like Wikipedia, The New York Times, or even library databases are great alternatives. The main goal remains the same: extract useful data and enhance your web scraping skills while exploring a source of information you enjoy. This is your opportunity to practice and adapt to different web environments!"
   ]
  },
  {
   "cell_type": "code",
   "execution_count": null,
   "id": "40359eee-9cd7-4884-bfa4-83344c222305",
   "metadata": {
    "id": "40359eee-9cd7-4884-bfa4-83344c222305"
   },
   "outputs": [],
   "source": [
    "#!pip install requests beautifulsoup4\n",
    "import requests\n",
    "from bs4 import BeautifulSoup"
   ]
  },
  {
   "cell_type": "code",
   "execution_count": null,
   "id": "c2254140-6b9c-4659-a906-30e65d7226bd",
   "metadata": {},
   "outputs": [],
   "source": [
    "import pandas as pd"
   ]
  },
  {
   "cell_type": "code",
   "execution_count": null,
   "id": "1de4750b-ad9d-4e94-bb0d-f05c7979c8d5",
   "metadata": {},
   "outputs": [],
   "source": [
    "url = \"https://books.toscrape.com/.html\"\n",
    "\n",
    "r = requests.get(url)\n",
    "soup = BeautifulSoup(r.content)\n",
    "books = soup.find_all(\"li\", attrs = {\"class\": \"col-xs-6 col-sm-4 col-md-3 col-lg-3\"})"
   ]
  },
  {
   "cell_type": "code",
   "execution_count": null,
   "id": "010f04f6-ac8b-43b4-838a-3d9f6b60d7b6",
   "metadata": {},
   "outputs": [],
   "source": [
    "#import requests\n",
    "#from bs4 import BeautifulSoup\n",
    "#import pandas as pd\n",
    "\n",
    "#def scrape_books(min_rating, max_price):\n",
    "#    url = 'https://books.toscrape.com/'  # base URL\n",
    "#    response = requests.get(url)\n",
    "#    if response.status_code == 200:\n",
    "#        soup = BeautifulSoup(response.content, 'html.parser')\n",
    "#        books = []\n",
    "#        for book_info in soup.find_all('article', class_='product_pod'):\n",
    "#            title = book_info.h3.a['title']  # Title\n",
    "#            price = float(book_info.find('p', class_='price_color').text[1:])  # Price\n",
    "#            rating = book_info.p['class'][1]  # Rating\n",
    "#            genre = \"Sample Genre\"  # Placeholder code\n",
    "#            if price <= max_price and int(rating) >= min_rating:\n",
    "#                books.append({'Title': title, 'Price (£)': price, 'Rating': rating, 'Genre': genre})\n",
    "#        df = pd.DataFrame(books)\n",
    "#        return df\n",
    "#    else:\n",
    "#        print(f'Error: {response.status_code}')"
   ]
  },
  {
   "cell_type": "code",
   "execution_count": null,
   "id": "37634028-b610-453e-94e8-c1bbd2bb3153",
   "metadata": {},
   "outputs": [],
   "source": [
    "scrape_books(1, 20)"
   ]
  },
  {
   "cell_type": "code",
   "execution_count": null,
   "id": "93e0f4bf-5ece-4303-b314-fbfe07d2d11f",
   "metadata": {},
   "outputs": [],
   "source": [
    "def get_link(books):\n",
    "    domain = \"https://books.toscrape.com/catalogue/\"\n",
    "    href = books.find_all(\"a\")[0][\"href\"]\n",
    "    \n",
    "    return domain+href"
   ]
  },
  {
   "cell_type": "code",
   "execution_count": null,
   "id": "6b2c9234-3c51-442d-8156-5aedc634203d",
   "metadata": {},
   "outputs": [],
   "source": [
    "def get_books_data(page_number):\n",
    "    url = f\"https://books.toscrape.com/catalogue/page-{page_number}.html\"\n",
    "\n",
    "    r = requests.get(url)\n",
    "    soup = BeautifulSoup(r.content)\n",
    "    books = soup.find_all(\"li\", attrs = {\"class\": \"col-xs-6 col-sm-4 col-md-3 col-lg-3\"})\n",
    "\n",
    "    book_name = [book.find_all(\"h3\")[0].get_text() for book in books]\n",
    "    book_price = [book.find_all(\"div\",attrs  = {\"class\":\"product_price\"})[0].get_text()[:4].strip() for book in books]\n",
    "    Availability = [book.find_all(\"p\",attrs  = {\"class\":\"instock availability\"})[0].get_text().strip() for book in books]\n",
    "    #link = get_link(book)\n",
    "\n",
    "    \n",
    "    return book_name, book_price, Availability, #link\n",
    "\n",
    "\n",
    "get_books_data(2)\n",
    "    \n",
    "    #UPC: The Universal Product Code (UPC) of the book.\n",
    "    #Title: The title of the book.\n",
    "    #Price (£): The price of the book in pounds.\n",
    "    #Rating: The rating of the book (1-5 stars).\n",
    "    #Genre: The genre of the book.\n",
    "    #Availability: Whether the book is in stock or not.\n",
    "    #Description:\n"
   ]
  },
  {
   "cell_type": "code",
   "execution_count": null,
   "id": "57e0fd56-9667-4d79-b1dd-ffbaf0259552",
   "metadata": {},
   "outputs": [],
   "source": [
    "response = requests.get(url)\n",
    "if response.status_code == 200:\n",
    "    # Step 2: Parse the HTML content\n",
    "    soup = BeautifulSoup(response.text, 'html.parser')\n",
    "\n",
    "    # Step 3: Locate the 5-star rating element\n",
    "    # Example: The ratings are in a span with class 'rating-stars'\n",
    "    five_star_element = soup.find('p', class_='star-rating Three')  # Update the tag and class based on the website\n",
    "\n",
    "    if five_star_element:\n",
    "        print(\"5-Star Rating Found:\", five_star_element.text)\n",
    "    else:\n",
    "        print(\"5-Star Rating not found on the page.\")\n",
    "else:\n",
    "    print(f\"Failed to fetch the webpage. Status Code: {response.status_code}\")\n"
   ]
  },
  {
   "cell_type": "code",
   "execution_count": null,
   "id": "a8f35932-804f-49c1-8f27-921a90a62971",
   "metadata": {},
   "outputs": [],
   "source": [
    "def rating_to_num(my_string):\n",
    "    if my_string == \"One\":\n",
    "        return 1\n",
    "    elif my_string == \"Two\":\n",
    "        return 2\n",
    "    elif my_string == \"Three\":\n",
    "        return 3\n",
    "    elif my_string == \"Four\":\n",
    "        return 4\n",
    "    else:\n",
    "        return 5\n",
    "    \n",
    "\n",
    "def full_href(my_string):\n",
    "    domain = \"https://books.toscrape.com/catalogue/\"\n",
    "    return domain+my_string"
   ]
  },
  {
   "cell_type": "code",
   "execution_count": null,
   "id": "ba4c1180-9c78-4c36-be1b-d8446b5744c1",
   "metadata": {},
   "outputs": [],
   "source": []
  }
 ],
 "metadata": {
  "colab": {
   "provenance": []
  },
  "kernelspec": {
   "display_name": "Python 3 (ipykernel)",
   "language": "python",
   "name": "python3"
  },
  "language_info": {
   "codemirror_mode": {
    "name": "ipython",
    "version": 3
   },
   "file_extension": ".py",
   "mimetype": "text/x-python",
   "name": "python",
   "nbconvert_exporter": "python",
   "pygments_lexer": "ipython3",
   "version": "3.12.7"
  }
 },
 "nbformat": 4,
 "nbformat_minor": 5
}
